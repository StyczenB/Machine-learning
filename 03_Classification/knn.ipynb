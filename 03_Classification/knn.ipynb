{
 "cells": [
  {
   "cell_type": "markdown",
   "metadata": {},
   "source": [
    "# Zadanie 1 - kNN - wlasna implementacja"
   ]
  },
  {
   "cell_type": "code",
   "execution_count": 6,
   "metadata": {},
   "outputs": [],
   "source": [
    "from sklearn import datasets\n",
    "from sklearn.model_selection import train_test_split\n",
    "from scipy.spatial import distance\n",
    "from sklearn.metrics import accuracy_score\n",
    "from sklearn.preprocessing import StandardScaler\n",
    "import numpy as np\n",
    "\n",
    "# WSTAWIAC KNN I DRZEWA DECYZYJNE JAKO ODDZIELNE PLIKI"
   ]
  },
  {
   "cell_type": "code",
   "execution_count": 7,
   "metadata": {},
   "outputs": [],
   "source": [
    "# Load iris dataset\n",
    "db_iris = datasets.load_iris()\n",
    "\n",
    "# Normalize data\n",
    "for i in range(db_iris.data.shape[1]):\n",
    "    db_iris.data[:, i] = (db_iris.data[:, i] - db_iris.data[:, i].mean()) / db_iris.data[:, i].std()\n",
    "\n",
    "# Train and test dataset split\n",
    "features_train, features_test, labels_train, labels_test = train_test_split(db_iris.data, db_iris.target, test_size=0.3)"
   ]
  },
  {
   "cell_type": "code",
   "execution_count": 8,
   "metadata": {},
   "outputs": [],
   "source": [
    "# Get number of test and train samples for clarity\n",
    "nr_test_samples = features_test.shape[0]\n",
    "nr_train_samples = features_train.shape[0]\n",
    "\n",
    "# Calculate distance matrix\n",
    "dist = np.zeros((nr_test_samples, nr_train_samples))\n",
    "for i in range(nr_test_samples):\n",
    "    for j in range(nr_train_samples):\n",
    "        dist[i, j] = distance.euclidean(features_test[i, :], features_train[j, :])"
   ]
  },
  {
   "cell_type": "code",
   "execution_count": 9,
   "metadata": {},
   "outputs": [],
   "source": [
    "# Set k value\n",
    "k = 5\n",
    "\n",
    "# Choose k nearest neighbors\n",
    "knn = np.zeros((nr_test_samples, k), dtype=np.uint8)\n",
    "for i in range(nr_test_samples):\n",
    "    knn[i, :] = np.argsort(dist[i, :])[:k]\n",
    "    \n",
    "# knn = np.argsort(dist, axis=1)[:k]"
   ]
  },
  {
   "cell_type": "code",
   "execution_count": 10,
   "metadata": {},
   "outputs": [],
   "source": [
    "# Get labels for test samples\n",
    "predictions_custom = np.zeros((nr_test_samples, 1), dtype=np.uint8)\n",
    "for i in range(nr_test_samples):\n",
    "    predictions_custom[i, :] = labels_train[np.bincount(knn[i, :]).argmax()]"
   ]
  },
  {
   "cell_type": "code",
   "execution_count": 11,
   "metadata": {},
   "outputs": [
    {
     "name": "stdout",
     "output_type": "stream",
     "text": [
      "Accuracy = 0.9777777777777777\n"
     ]
    }
   ],
   "source": [
    "# Classifier accuracy\n",
    "accuracy = accuracy_score(predictions_custom, labels_test)\n",
    "print('Accuracy = {}'.format(accuracy))"
   ]
  },
  {
   "cell_type": "markdown",
   "metadata": {},
   "source": [
    "# Zadanie 2 - kNN - Python (sklearn)"
   ]
  },
  {
   "cell_type": "code",
   "execution_count": 12,
   "metadata": {},
   "outputs": [],
   "source": [
    "# Load necessary packages\n",
    "from sklearn.neighbors import KNeighborsClassifier"
   ]
  },
  {
   "cell_type": "code",
   "execution_count": 13,
   "metadata": {},
   "outputs": [],
   "source": [
    "# Create classifier\n",
    "classifier = KNeighborsClassifier(n_neighbors=k, metric='minkowski', p=2, algorithm='brute')"
   ]
  },
  {
   "cell_type": "code",
   "execution_count": 14,
   "metadata": {},
   "outputs": [
    {
     "data": {
      "text/plain": [
       "KNeighborsClassifier(algorithm='brute', leaf_size=30, metric='minkowski',\n",
       "           metric_params=None, n_jobs=None, n_neighbors=5, p=2,\n",
       "           weights='uniform')"
      ]
     },
     "execution_count": 14,
     "metadata": {},
     "output_type": "execute_result"
    }
   ],
   "source": [
    "# Learn classifier\n",
    "classifier.fit(X=features_train, y=labels_train)"
   ]
  },
  {
   "cell_type": "code",
   "execution_count": 15,
   "metadata": {},
   "outputs": [],
   "source": [
    "# Predict on test data\n",
    "predictions = classifier.predict(X=features_test)"
   ]
  },
  {
   "cell_type": "code",
   "execution_count": 16,
   "metadata": {},
   "outputs": [
    {
     "name": "stdout",
     "output_type": "stream",
     "text": [
      "Accuracy = 0.9555555555555556\n"
     ]
    }
   ],
   "source": [
    "# Classifier accuracy\n",
    "accuracy = accuracy_score(predictions, labels_test)\n",
    "print('Accuracy = {}'.format(accuracy))"
   ]
  },
  {
   "cell_type": "code",
   "execution_count": 58,
   "metadata": {},
   "outputs": [
    {
     "name": "stdout",
     "output_type": "stream",
     "text": [
      "Are predictions from custom and sklearn kNN implementations same?\n",
      "Answer: False\n"
     ]
    }
   ],
   "source": [
    "# Compare custom to sklearn implementations results\n",
    "print('Are predictions from custom and sklearn kNN implementations same?')\n",
    "print('Answer: {}'.format(np.all(predictions == predictions_custom)))"
   ]
  },
  {
   "cell_type": "code",
   "execution_count": null,
   "metadata": {},
   "outputs": [],
   "source": []
  }
 ],
 "metadata": {
  "kernelspec": {
   "display_name": "Python 3",
   "language": "python",
   "name": "python3"
  },
  "language_info": {
   "codemirror_mode": {
    "name": "ipython",
    "version": 3
   },
   "file_extension": ".py",
   "mimetype": "text/x-python",
   "name": "python",
   "nbconvert_exporter": "python",
   "pygments_lexer": "ipython3",
   "version": "3.6.7"
  }
 },
 "nbformat": 4,
 "nbformat_minor": 2
}

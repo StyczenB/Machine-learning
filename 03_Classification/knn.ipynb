{
 "cells": [
  {
   "cell_type": "markdown",
   "metadata": {},
   "source": [
    "# Zadanie 1 - kNN - wlasna implementacja"
   ]
  },
  {
   "cell_type": "code",
   "execution_count": 106,
   "metadata": {},
   "outputs": [],
   "source": [
    "from sklearn import datasets\n",
    "from sklearn.model_selection import train_test_split\n",
    "from scipy.spatial import distance\n",
    "from sklearn.metrics import accuracy_score\n",
    "import numpy as np"
   ]
  },
  {
   "cell_type": "code",
   "execution_count": 107,
   "metadata": {},
   "outputs": [],
   "source": [
    "# Load iris dataset\n",
    "db_iris = datasets.load_iris()\n",
    "\n",
    "# Normalize data\n",
    "for i in range(db_iris['data'].shape[1]):\n",
    "    db_iris['data'][:, i] = (db_iris['data'][:, i] - db_iris['data'][:, i].mean()) / db_iris['data'][:, i].std()\n",
    "    \n",
    "# Train and test dataset split\n",
    "features_train, features_test, labels_train, labels_test = train_test_split(db_iris['data'], db_iris['target'], test_size=0.3)"
   ]
  },
  {
   "cell_type": "code",
   "execution_count": 108,
   "metadata": {},
   "outputs": [],
   "source": [
    "# Get number of test and train samples for clarity\n",
    "nr_test_samples = features_test.shape[0]\n",
    "nr_train_samples = features_train.shape[0]"
   ]
  },
  {
   "cell_type": "code",
   "execution_count": 109,
   "metadata": {},
   "outputs": [],
   "source": [
    "# Calculate distance matrix with two loops (using scipy.spatial.distance.euclidean function)\n",
    "dists = np.zeros((nr_test_samples, nr_train_samples))\n",
    "for i in range(nr_test_samples):\n",
    "    for j in range(nr_train_samples):\n",
    "        dists[i, j] = distance.euclidean(features_test[i, :], features_train[j, :])"
   ]
  },
  {
   "cell_type": "code",
   "execution_count": 110,
   "metadata": {},
   "outputs": [],
   "source": [
    "# Set k value\n",
    "k = 5\n",
    "\n",
    "# Choose k nearest neighbors and get labels\n",
    "predictions_custom = np.zeros(nr_test_samples, dtype=np.uint8)\n",
    "for i in range(nr_test_samples):\n",
    "    closest_k_idx = np.argsort(dists[i, :])[:k]\n",
    "    closest_y = labels_train[closest_k_idx]\n",
    "    predictions_custom[i] = np.bincount(closest_y).argmax()"
   ]
  },
  {
   "cell_type": "code",
   "execution_count": 111,
   "metadata": {},
   "outputs": [
    {
     "name": "stdout",
     "output_type": "stream",
     "text": [
      "Accuracy = 0.9777777777777777\n"
     ]
    }
   ],
   "source": [
    "# Classifier accuracy\n",
    "accuracy = accuracy_score(predictions_custom, labels_test)\n",
    "print('Accuracy = {}'.format(accuracy))"
   ]
  },
  {
   "cell_type": "markdown",
   "metadata": {},
   "source": [
    "# Zadanie 2 - kNN - Python (sklearn)"
   ]
  },
  {
   "cell_type": "code",
   "execution_count": 112,
   "metadata": {},
   "outputs": [],
   "source": [
    "# Load necessary package\n",
    "from sklearn.neighbors import KNeighborsClassifier"
   ]
  },
  {
   "cell_type": "code",
   "execution_count": 113,
   "metadata": {},
   "outputs": [],
   "source": [
    "# Create classifier\n",
    "classifier = KNeighborsClassifier(n_neighbors=k)"
   ]
  },
  {
   "cell_type": "code",
   "execution_count": 114,
   "metadata": {},
   "outputs": [
    {
     "data": {
      "text/plain": [
       "KNeighborsClassifier(algorithm='auto', leaf_size=30, metric='minkowski',\n",
       "           metric_params=None, n_jobs=None, n_neighbors=5, p=2,\n",
       "           weights='uniform')"
      ]
     },
     "execution_count": 114,
     "metadata": {},
     "output_type": "execute_result"
    }
   ],
   "source": [
    "# Learn classifier\n",
    "classifier.fit(X=features_train, y=labels_train)"
   ]
  },
  {
   "cell_type": "code",
   "execution_count": 115,
   "metadata": {},
   "outputs": [],
   "source": [
    "# Predict on test data\n",
    "predictions = classifier.predict(X=features_test)"
   ]
  },
  {
   "cell_type": "code",
   "execution_count": 116,
   "metadata": {},
   "outputs": [
    {
     "name": "stdout",
     "output_type": "stream",
     "text": [
      "Accuracy = 0.9777777777777777\n"
     ]
    }
   ],
   "source": [
    "# Classifier accuracy\n",
    "accuracy = accuracy_score(predictions, labels_test)\n",
    "print('Accuracy = {}'.format(accuracy))"
   ]
  },
  {
   "cell_type": "code",
   "execution_count": 117,
   "metadata": {},
   "outputs": [
    {
     "name": "stdout",
     "output_type": "stream",
     "text": [
      "Are predictions from custom and sklearn implementations of kNN the same?\n",
      "Answer: True\n"
     ]
    }
   ],
   "source": [
    "# Compare custom to sklearn implementations results\n",
    "print('Are predictions from custom and sklearn implementations of kNN the same?')\n",
    "print('Answer: {}'.format(np.all(predictions == predictions_custom)))"
   ]
  }
 ],
 "metadata": {
  "kernelspec": {
   "display_name": "Python 3",
   "language": "python",
   "name": "python3"
  },
  "language_info": {
   "codemirror_mode": {
    "name": "ipython",
    "version": 3
   },
   "file_extension": ".py",
   "mimetype": "text/x-python",
   "name": "python",
   "nbconvert_exporter": "python",
   "pygments_lexer": "ipython3",
   "version": "3.6.7"
  },
  "varInspector": {
   "cols": {
    "lenName": 16,
    "lenType": 16,
    "lenVar": 40
   },
   "kernels_config": {
    "python": {
     "delete_cmd_postfix": "",
     "delete_cmd_prefix": "del ",
     "library": "var_list.py",
     "varRefreshCmd": "print(var_dic_list())"
    },
    "r": {
     "delete_cmd_postfix": ") ",
     "delete_cmd_prefix": "rm(",
     "library": "var_list.r",
     "varRefreshCmd": "cat(var_dic_list()) "
    }
   },
   "oldHeight": 233.85,
   "position": {
    "height": "40px",
    "left": "900px",
    "right": "16px",
    "top": "-6px",
    "width": "633px"
   },
   "types_to_exclude": [
    "module",
    "function",
    "builtin_function_or_method",
    "instance",
    "_Feature"
   ],
   "varInspector_section_display": "none",
   "window_display": true
  }
 },
 "nbformat": 4,
 "nbformat_minor": 2
}
